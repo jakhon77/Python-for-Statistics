{
 "cells": [
  {
   "cell_type": "code",
   "execution_count": 44,
   "metadata": {},
   "outputs": [],
   "source": [
    "import  numpy as np\n",
    "import statsmodels.api as sm\n",
    "from scipy.stats import norm "
   ]
  },
  {
   "cell_type": "markdown",
   "metadata": {},
   "source": [
    "# One Population Proportion"
   ]
  },
  {
   "cell_type": "markdown",
   "metadata": {},
   "source": [
    "Null Hypothesis: p = 0.52\n",
    "\n",
    "Alternative Hypothesis: p > 0.52 (this is a one-sided test)\n",
    "\n",
    "Sample size: n = 1018\n",
    "\n",
    "Point estimate = Number of success / sample size\n",
    "\n",
    "Point estimate: phat = 0.56"
   ]
  },
  {
   "cell_type": "code",
   "execution_count": 31,
   "metadata": {},
   "outputs": [
    {
     "name": "stdout",
     "output_type": "stream",
     "text": [
      "statistic = 2.57, pvalue = 0.005\n"
     ]
    }
   ],
   "source": [
    "n = 1018\n",
    "pnull = 0.52\n",
    "phat = 0.56\n",
    "stat, pval = sm.stats.proportions_ztest(phat*n, n, pnull, alternative = 'larger')\n",
    "\n",
    "print(f\"statistic = {stat.round(2)}, pvalue = {pval.round(3)}\")"
   ]
  },
  {
   "cell_type": "markdown",
   "metadata": {},
   "source": [
    "So, we reject the null hypothesis."
   ]
  },
  {
   "cell_type": "markdown",
   "metadata": {},
   "source": [
    "# Two Population Proportion"
   ]
  },
  {
   "cell_type": "markdown",
   "metadata": {},
   "source": [
    "Null Hypothesis: p1-p2 = 0\n",
    "Alternative Hypothesis: p1-p2 != 0"
   ]
  },
  {
   "cell_type": "markdown",
   "metadata": {},
   "source": [
    "### Let's first calculate the test statistics manually"
   ]
  },
  {
   "cell_type": "code",
   "execution_count": 53,
   "metadata": {},
   "outputs": [
    {
     "name": "stdout",
     "output_type": "stream",
     "text": [
      "Test statistic: -0.48\n",
      "P value: 0.63\n"
     ]
    }
   ],
   "source": [
    "x1 = 91 # nuber of success\n",
    "n1 = 247 # sample size\n",
    "p1 = round(x1/n1,2) # point estimate or phat\n",
    "\n",
    "x2 = 120\n",
    "n2 = 308\n",
    "p2 = round(x2/n2, 2)\n",
    "\n",
    "# Estimaste of combined population proportion\n",
    "phat = (x1+x2)/(n1+n2)\n",
    "\n",
    "# Estimated standard error of the combined population proportion\n",
    "se = np.sqrt(phat*(1-phat)*(1/n1+1/n2))\n",
    "\n",
    "# test statistic\n",
    "test_stat = (p1-p2)/se\n",
    "pval = 2*norm.cdf(test_stat)\n",
    "\n",
    "print(f'Test statistic: {round(test_stat,2)}')\n",
    "print(f'P value: {round(pval,2)}')"
   ]
  },
  {
   "cell_type": "markdown",
   "metadata": {},
   "source": [
    "So, we fail to reject the null hypothesis and conclude that there is not enough evidence to say that the two population proportions are significantly different.  "
   ]
  },
  {
   "cell_type": "markdown",
   "metadata": {},
   "source": [
    "### Now, let's create random numbers from these two proportion distributions and conduct the test using Statsmodels library"
   ]
  },
  {
   "cell_type": "code",
   "execution_count": 54,
   "metadata": {},
   "outputs": [
    {
     "data": {
      "text/plain": [
       "array([0, 0, 0, 1, 1, 0, 1, 1, 0, 0], dtype=int64)"
      ]
     },
     "execution_count": 54,
     "metadata": {},
     "output_type": "execute_result"
    }
   ],
   "source": [
    "rng = np.random.default_rng(111)\n",
    "population1 = rng.binomial(1, p1, size = n1)\n",
    "population1[:10]           "
   ]
  },
  {
   "cell_type": "code",
   "execution_count": 55,
   "metadata": {},
   "outputs": [
    {
     "data": {
      "text/plain": [
       "array([0, 1, 1, 1, 1, 0, 0, 0, 0, 0], dtype=int64)"
      ]
     },
     "execution_count": 55,
     "metadata": {},
     "output_type": "execute_result"
    }
   ],
   "source": [
    "rng = np.random.default_rng(222)\n",
    "population2 = rng.binomial(1, p2, size = n2)\n",
    "population2[:10]"
   ]
  },
  {
   "cell_type": "code",
   "execution_count": 58,
   "metadata": {},
   "outputs": [
    {
     "data": {
      "text/plain": [
       "(-0.5110545335044571, 0.6093128715165157)"
      ]
     },
     "execution_count": 58,
     "metadata": {},
     "output_type": "execute_result"
    }
   ],
   "source": [
    "z_statistic, pval = sm.stats.proportions_ztest(count = [x1,x2], nobs = [n1,n2])\n",
    "z_statistic, pval"
   ]
  },
  {
   "cell_type": "markdown",
   "metadata": {},
   "source": [
    "As we can see, it has produced almost the same statistic values as above"
   ]
  }
 ],
 "metadata": {
  "kernelspec": {
   "display_name": "Python 3",
   "language": "python",
   "name": "python3"
  },
  "language_info": {
   "codemirror_mode": {
    "name": "ipython",
    "version": 3
   },
   "file_extension": ".py",
   "mimetype": "text/x-python",
   "name": "python",
   "nbconvert_exporter": "python",
   "pygments_lexer": "ipython3",
   "version": "3.8.3"
  }
 },
 "nbformat": 4,
 "nbformat_minor": 4
}
